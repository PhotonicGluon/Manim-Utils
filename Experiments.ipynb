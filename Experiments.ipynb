{
 "cells": [
  {
   "cell_type": "markdown",
   "metadata": {},
   "source": [
    "# Experiments"
   ]
  },
  {
   "cell_type": "code",
   "execution_count": 1,
   "metadata": {},
   "outputs": [],
   "source": [
    "from manim import *\n",
    "from manim_utils import *"
   ]
  },
  {
   "cell_type": "markdown",
   "metadata": {},
   "source": [
    "## Movable Graph"
   ]
  },
  {
   "cell_type": "code",
   "execution_count": 2,
   "metadata": {},
   "outputs": [
    {
     "data": {
      "text/html": [
       "<pre style=\"white-space:pre;overflow-x:auto;line-height:normal;font-family:Menlo,'DejaVu Sans Mono',consolas,'Courier New',monospace\">Manim Community <span style=\"color: #008000; text-decoration-color: #008000\">v0.18.1</span>\n",
       "\n",
       "</pre>\n"
      ],
      "text/plain": [
       "Manim Community \u001b[32mv0.\u001b[0m\u001b[32m18.1\u001b[0m\n",
       "\n"
      ]
     },
     "metadata": {},
     "output_type": "display_data"
    },
    {
     "name": "stdout",
     "output_type": "stream",
     "text": [
      "OLD CENTER [1. 0. 0.]\n",
      "SHIFT (array([-1.,  0.,  0.]),)\n",
      "NEW CENTER [-5.55111512e-17  0.00000000e+00  0.00000000e+00]\n",
      "RESVEC [-1.  0.  0.]\n",
      "ORIG [1.24 0.18 0.  ] [2.76 1.32 0.  ]\n",
      "M1 [ 1.00000000e+00 -2.77555756e-17  0.00000000e+00]\n",
      "M2 [ 0.00000000e+00 -2.77555756e-17  0.00000000e+00]\n",
      "M3 [0.27064027 0.12943665 0.        ]\n",
      "ORIG [1.  0.3 0. ] [1.  1.2 0. ]\n",
      "M1 [1.00000000e+00 5.55111512e-17 0.00000000e+00]\n",
      "M2 [0.00000000e+00 5.55111512e-17 0.00000000e+00]\n",
      "M3 [0.19205532 0.23046638 0.        ]\n"
     ]
    },
    {
     "data": {
      "text/html": [
       "<pre style=\"white-space:pre;overflow-x:auto;line-height:normal;font-family:Menlo,'DejaVu Sans Mono',consolas,'Courier New',monospace\"><span style=\"color: #7fbfbf; text-decoration-color: #7fbfbf\">[12/02/24 12:58:13] </span><span style=\"color: #008000; text-decoration-color: #008000\">INFO    </span>                                                               <a href=\"file:///home/vscode/.cache/pypoetry/virtualenvs/manim-utils-nTB2-4Fm-py3.12/lib/python3.12/site-packages/manim/scene/scene_file_writer.py\" target=\"_blank\"><span style=\"color: #7f7f7f; text-decoration-color: #7f7f7f\">scene_file_writer.py</span></a><span style=\"color: #7f7f7f; text-decoration-color: #7f7f7f\">:</span><a href=\"file:///home/vscode/.cache/pypoetry/virtualenvs/manim-utils-nTB2-4Fm-py3.12/lib/python3.12/site-packages/manim/scene/scene_file_writer.py#737\" target=\"_blank\"><span style=\"color: #7f7f7f; text-decoration-color: #7f7f7f\">737</span></a>\n",
       "<span style=\"color: #7fbfbf; text-decoration-color: #7fbfbf\">                    </span>         <span style=\"color: #808000; text-decoration-color: #808000; font-weight: bold\">File</span> ready at                                                 <span style=\"color: #7f7f7f; text-decoration-color: #7f7f7f\">                        </span>\n",
       "<span style=\"color: #7fbfbf; text-decoration-color: #7fbfbf\">                    </span>         <span style=\"color: #008000; text-decoration-color: #008000\">'/workspaces/Manim-Utils/media/images/Manim-Utils/move-graph.</span> <span style=\"color: #7f7f7f; text-decoration-color: #7f7f7f\">                        </span>\n",
       "<span style=\"color: #7fbfbf; text-decoration-color: #7fbfbf\">                    </span>         <span style=\"color: #008000; text-decoration-color: #008000\">png'</span>                                                          <span style=\"color: #7f7f7f; text-decoration-color: #7f7f7f\">                        </span>\n",
       "<span style=\"color: #7fbfbf; text-decoration-color: #7fbfbf\">                    </span>                                                                       <span style=\"color: #7f7f7f; text-decoration-color: #7f7f7f\">                        </span>\n",
       "</pre>\n"
      ],
      "text/plain": [
       "\u001b[2;36m[12/02/24 12:58:13]\u001b[0m\u001b[2;36m \u001b[0m\u001b[32mINFO    \u001b[0m                                                               \u001b]8;id=56776;file:///home/vscode/.cache/pypoetry/virtualenvs/manim-utils-nTB2-4Fm-py3.12/lib/python3.12/site-packages/manim/scene/scene_file_writer.py\u001b\\\u001b[2mscene_file_writer.py\u001b[0m\u001b]8;;\u001b\\\u001b[2m:\u001b[0m\u001b]8;id=390909;file:///home/vscode/.cache/pypoetry/virtualenvs/manim-utils-nTB2-4Fm-py3.12/lib/python3.12/site-packages/manim/scene/scene_file_writer.py#737\u001b\\\u001b[2m737\u001b[0m\u001b]8;;\u001b\\\n",
       "\u001b[2;36m                    \u001b[0m         \u001b[1;33mFile\u001b[0m ready at                                                 \u001b[2m                        \u001b[0m\n",
       "\u001b[2;36m                    \u001b[0m         \u001b[32m'/workspaces/Manim-Utils/media/images/Manim-Utils/move-graph.\u001b[0m \u001b[2m                        \u001b[0m\n",
       "\u001b[2;36m                    \u001b[0m         \u001b[32mpng'\u001b[0m                                                          \u001b[2m                        \u001b[0m\n",
       "\u001b[2;36m                    \u001b[0m                                                                       \u001b[2m                        \u001b[0m\n"
      ]
     },
     "metadata": {},
     "output_type": "display_data"
    },
    {
     "data": {
      "text/html": [
       "<pre style=\"white-space:pre;overflow-x:auto;line-height:normal;font-family:Menlo,'DejaVu Sans Mono',consolas,'Courier New',monospace\"><span style=\"color: #7fbfbf; text-decoration-color: #7fbfbf\">                    </span><span style=\"color: #008000; text-decoration-color: #008000\">INFO    </span> <span style=\"color: #808000; text-decoration-color: #808000; font-weight: bold\">Rendered</span> GraphScene                                                       <a href=\"file:///home/vscode/.cache/pypoetry/virtualenvs/manim-utils-nTB2-4Fm-py3.12/lib/python3.12/site-packages/manim/scene/scene.py\" target=\"_blank\"><span style=\"color: #7f7f7f; text-decoration-color: #7f7f7f\">scene.py</span></a><span style=\"color: #7f7f7f; text-decoration-color: #7f7f7f\">:</span><a href=\"file:///home/vscode/.cache/pypoetry/virtualenvs/manim-utils-nTB2-4Fm-py3.12/lib/python3.12/site-packages/manim/scene/scene.py#247\" target=\"_blank\"><span style=\"color: #7f7f7f; text-decoration-color: #7f7f7f\">247</span></a>\n",
       "<span style=\"color: #7fbfbf; text-decoration-color: #7fbfbf\">                    </span>         <span style=\"color: #808000; text-decoration-color: #808000; font-weight: bold\">Played</span> <span style=\"color: #008000; text-decoration-color: #008000\">0</span> <span style=\"color: #808000; text-decoration-color: #808000; font-weight: bold\">animations</span>                                                       <span style=\"color: #7f7f7f; text-decoration-color: #7f7f7f\">            </span>\n",
       "</pre>\n"
      ],
      "text/plain": [
       "\u001b[2;36m                   \u001b[0m\u001b[2;36m \u001b[0m\u001b[32mINFO    \u001b[0m \u001b[1;33mRendered\u001b[0m GraphScene                                                       \u001b]8;id=903759;file:///home/vscode/.cache/pypoetry/virtualenvs/manim-utils-nTB2-4Fm-py3.12/lib/python3.12/site-packages/manim/scene/scene.py\u001b\\\u001b[2mscene.py\u001b[0m\u001b]8;;\u001b\\\u001b[2m:\u001b[0m\u001b]8;id=329246;file:///home/vscode/.cache/pypoetry/virtualenvs/manim-utils-nTB2-4Fm-py3.12/lib/python3.12/site-packages/manim/scene/scene.py#247\u001b\\\u001b[2m247\u001b[0m\u001b]8;;\u001b\\\n",
       "\u001b[2;36m                    \u001b[0m         \u001b[1;33mPlayed\u001b[0m \u001b[32m0\u001b[0m \u001b[1;33manimations\u001b[0m                                                       \u001b[2m            \u001b[0m\n"
      ]
     },
     "metadata": {},
     "output_type": "display_data"
    },
    {
     "data": {
      "image/png": "[encoded data removed]",
      "text/plain": [
       "<IPython.core.display.Image object>"
      ]
     },
     "metadata": {},
     "output_type": "display_data"
    }
   ],
   "source": [
    "%%manim --output_file move-graph.png -ql GraphScene\n",
    "\n",
    "\n",
    "class GraphScene(Scene):\n",
    "    def construct(self):\n",
    "        # Create the graph\n",
    "        graph = HasseGraph(\n",
    "            [1, 2, 3, 4, 5, 6, 7],\n",
    "            [(1, 2), (1, 3), (2, 4), (2, 5), (3, 6), (3, 7)]\n",
    "        )\n",
    "        self.add(graph)\n",
    "\n",
    "        # Adjust vertex\n",
    "        graph.shift_vertex(3, LEFT)\n",
    "\n",
    "        # Adjust edge\n",
    "        # graph.shift_edge(1, 3, RIGHT*0.125)"
   ]
  },
  {
   "cell_type": "code",
   "execution_count": null,
   "metadata": {},
   "outputs": [],
   "source": []
  }
 ],
 "metadata": {
  "kernelspec": {
   "display_name": "Python 3 (ipykernel)",
   "language": "python",
   "name": "python3"
  },
  "language_info": {
   "codemirror_mode": {
    "name": "ipython",
    "version": 3
   },
   "file_extension": ".py",
   "mimetype": "text/x-python",
   "name": "python",
   "nbconvert_exporter": "python",
   "pygments_lexer": "ipython3",
   "version": "3.12.7"
  }
 },
 "nbformat": 4,
 "nbformat_minor": 4
}
